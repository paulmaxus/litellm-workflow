{
 "cells": [
  {
   "cell_type": "markdown",
   "id": "adf7ccf5-e955-460f-ae0e-3251e6c053dd",
   "metadata": {},
   "source": [
    "## Estimate tokens needed"
   ]
  },
  {
   "cell_type": "code",
   "execution_count": 1,
   "id": "2cf70702-0bee-4cbe-84f1-d445a4b7ebf3",
   "metadata": {},
   "outputs": [],
   "source": [
    "import tiktoken"
   ]
  },
  {
   "cell_type": "code",
   "execution_count": 2,
   "id": "3aa4e912-476a-44cc-b308-52f3ebb65bad",
   "metadata": {},
   "outputs": [],
   "source": [
    "possible_encodings = [\n",
    "    \"o200k_base\",  # gpt-4o, gpt-4o-mini\n",
    "    \"cl100k_base\",  # gpt-4-turbo, gpt-4, gpt-3.5-turbo, text-embedding-ada-002, text-embedding-3-small, text-embedding-3-large\n",
    "]\n",
    "\n",
    "encodings = [tiktoken.get_encoding(x) for x in possible_encodings]"
   ]
  },
  {
   "cell_type": "code",
   "execution_count": 3,
   "id": "b69e019c-3531-44c5-a30e-8f64299fdb1b",
   "metadata": {},
   "outputs": [],
   "source": [
    "persona = \"You are a helpful assistant.\""
   ]
  },
  {
   "cell_type": "code",
   "execution_count": 4,
   "id": "c5808e8b-e167-48ab-8dc7-cc4f2ea527ec",
   "metadata": {},
   "outputs": [],
   "source": [
    "sample_prompts = [\n",
    "    \"Write a haiku about recursion in programming.\",\n",
    "    \"Write a haiku about functional programming.\"\n",
    "]"
   ]
  },
  {
   "cell_type": "code",
   "execution_count": 5,
   "id": "fb539c3a-9074-4a3c-9037-172bbb893d15",
   "metadata": {},
   "outputs": [],
   "source": [
    "estimated_number_of_prompts = 20000"
   ]
  },
  {
   "cell_type": "code",
   "execution_count": 6,
   "id": "cef4594e-b4e1-469b-9c1b-fcd99ec66351",
   "metadata": {},
   "outputs": [
    {
     "name": "stdout",
     "output_type": "stream",
     "text": [
      "\n",
      "          \n",
      "o200k_base\n",
      "          \n",
      "Total for sample: 35\n",
      "          \n",
      "Average for sample: 17.5\n",
      "          \n",
      "Total for all prompts: 350000.0\n",
      "          \n",
      "Persona: 6\n",
      "          \n",
      "\n",
      "          \n",
      "cl100k_base\n",
      "          \n",
      "Total for sample: 35\n",
      "          \n",
      "Average for sample: 17.5\n",
      "          \n",
      "Total for all prompts: 350000.0\n",
      "          \n",
      "Persona: 6\n",
      "          \n"
     ]
    }
   ],
   "source": [
    "# Note: for newer models, because of the message-based formatting, 3 tokens are added per prompt\n",
    "\n",
    "for encoding in encodings:\n",
    "    n_tokens = []\n",
    "    n_persona_tokens = len(encoding.encode(persona))\n",
    "    for prompt in sample_prompts:\n",
    "        n_tokens.append(\n",
    "            3 + n_persona_tokens + len(encoding.encode(prompt))\n",
    "        )\n",
    "    print( \n",
    "          f\"\"\"\n",
    "          \\n{encoding.name}\n",
    "          \\nTotal for sample: {sum(n_tokens)}\n",
    "          \\nAverage for sample: {sum(n_tokens)/len(n_tokens)}\n",
    "          \\nTotal for all prompts: {(sum(n_tokens)/len(n_tokens)) * estimated_number_of_prompts}\n",
    "          \\nPersona: {n_persona_tokens}\n",
    "          \"\"\"\n",
    "         )\n",
    "    "
   ]
  },
  {
   "cell_type": "markdown",
   "id": "f5618b43-0141-4234-9fbd-0ff0fc1dd54c",
   "metadata": {},
   "source": [
    "### Estimate output tokens\n",
    "\n",
    "pass"
   ]
  },
  {
   "cell_type": "markdown",
   "id": "3dfe4f7f-6557-419f-afe8-6e13a1a68eb5",
   "metadata": {},
   "source": [
    "## Calling API (using requests library)"
   ]
  },
  {
   "cell_type": "code",
   "execution_count": 7,
   "id": "131f45f7-59a2-4b3c-b8ec-d33688cf4763",
   "metadata": {},
   "outputs": [],
   "source": [
    "import requests\n",
    "\n",
    "# you need a file config.py with a variable api_key containing your key\n",
    "from config import api_key"
   ]
  },
  {
   "cell_type": "code",
   "execution_count": 8,
   "id": "ca2a2961-175c-471d-88ef-999303a8f87a",
   "metadata": {},
   "outputs": [],
   "source": [
    "url = \"https://ai-research-proxy.azurewebsites.net/chat/completions\""
   ]
  },
  {
   "cell_type": "code",
   "execution_count": 9,
   "id": "b5f7e353-3807-4011-9c7d-0dfb3e6a5a70",
   "metadata": {},
   "outputs": [],
   "source": [
    "headers = {\n",
    "    \"Content-Type\": \"application/json\",\n",
    "    \"Accept\": \"application/json\",\n",
    "    \"Authorization\": f\"Bearer {api_key}\"\n",
    "}"
   ]
  },
  {
   "cell_type": "code",
   "execution_count": 10,
   "id": "1ffcabc9-d509-4cdf-bfe3-1bb0b43c8dca",
   "metadata": {},
   "outputs": [],
   "source": [
    "prompts = sample_prompts.copy()"
   ]
  },
  {
   "cell_type": "code",
   "execution_count": 11,
   "id": "adef818d-fdb9-4641-b85d-097c0bb87598",
   "metadata": {},
   "outputs": [],
   "source": [
    "import json"
   ]
  },
  {
   "cell_type": "code",
   "execution_count": 12,
   "id": "4d210ba9-36e7-4877-80d0-ab31cb085d57",
   "metadata": {},
   "outputs": [],
   "source": [
    "responses = []\n",
    "for prompt in prompts:\n",
    "    data = {\n",
    "        \"model\": \"gpt-4o-mini\",\n",
    "        \"messages\": [\n",
    "            {\"role\": \"system\", \"content\": persona},\n",
    "            {\"role\": \"user\", \"content\": prompt}\n",
    "        ]\n",
    "    }\n",
    "    responses.append(requests.post(url=url, data=json.dumps(data), headers=headers))"
   ]
  },
  {
   "cell_type": "code",
   "execution_count": 13,
   "id": "b8669c5a-cbe3-415d-aafd-71d2d041ff58",
   "metadata": {},
   "outputs": [
    {
     "data": {
      "text/plain": [
       "{'id': 'chatcmpl-AfowwQz1OlEJ7ZWmJbK830NclrVn4',\n",
       " 'choices': [{'finish_reason': 'stop',\n",
       "   'index': 0,\n",
       "   'message': {'content': 'Code calls itself back,  \\nLayers of loops intertwine,  \\nEndless depth in logic.',\n",
       "    'role': 'assistant',\n",
       "    'tool_calls': None,\n",
       "    'function_call': None}}],\n",
       " 'created': 1734530662,\n",
       " 'model': 'gpt-4o-mini',\n",
       " 'object': 'chat.completion',\n",
       " 'system_fingerprint': 'fp_04751d0b65',\n",
       " 'usage': {'prompt_tokens': 26, 'completion_tokens': 19, 'total_tokens': 45},\n",
       " 'service_tier': None,\n",
       " 'prompt_filter_results': [{'prompt_index': 0,\n",
       "   'content_filter_results': {'hate': {'filtered': False, 'severity': 'safe'},\n",
       "    'jailbreak': {'filtered': False, 'detected': False},\n",
       "    'self_harm': {'filtered': False, 'severity': 'safe'},\n",
       "    'sexual': {'filtered': False, 'severity': 'safe'},\n",
       "    'violence': {'filtered': False, 'severity': 'safe'}}}]}"
      ]
     },
     "execution_count": 13,
     "metadata": {},
     "output_type": "execute_result"
    }
   ],
   "source": [
    "responses[0].json()"
   ]
  },
  {
   "cell_type": "markdown",
   "id": "c70f8715-ba7d-49ee-8448-b4f80bb2afdf",
   "metadata": {},
   "source": [
    "## Calling API using openai"
   ]
  },
  {
   "cell_type": "code",
   "execution_count": 14,
   "id": "04e66856-0da7-45ab-bf63-3af557b382fc",
   "metadata": {},
   "outputs": [],
   "source": [
    "import openai  # you need to pip install this external library first"
   ]
  },
  {
   "cell_type": "code",
   "execution_count": 15,
   "id": "52f345e2-351b-4843-81fa-47ec87972705",
   "metadata": {},
   "outputs": [],
   "source": [
    "client = openai.OpenAI(\n",
    "    api_key=api_key,\n",
    "    base_url=\"https://ai-research-proxy.azurewebsites.net/\"\n",
    ")"
   ]
  },
  {
   "cell_type": "code",
   "execution_count": 16,
   "id": "7229b9c7-8b58-4c85-8c83-a6ce7b008925",
   "metadata": {},
   "outputs": [],
   "source": [
    "responses = []\n",
    "for prompt in prompts:\n",
    "    response = client.chat.completions.create(\n",
    "        model=\"gpt-4o-mini\",\n",
    "        messages = [\n",
    "            {\"role\": \"system\", \"content\": persona},\n",
    "            {\"role\": \"user\", \"content\": prompt}\n",
    "        ]\n",
    "    )\n",
    "    responses.append(response)"
   ]
  },
  {
   "cell_type": "code",
   "execution_count": 17,
   "id": "edea262d-f5cf-471b-83f2-98fe1f63dd51",
   "metadata": {},
   "outputs": [
    {
     "data": {
      "text/plain": [
       "{'id': 'chatcmpl-AfowytLBM2E5CfwkRnaHKDOkxQwc9',\n",
       " 'choices': [{'finish_reason': 'stop',\n",
       "   'index': 0,\n",
       "   'message': {'content': 'Function calls itself,  \\nDepth of logic unwinding,  \\nEndless loops converge.',\n",
       "    'role': 'assistant',\n",
       "    'function_call': None,\n",
       "    'tool_calls': None}}],\n",
       " 'created': 1734530664,\n",
       " 'model': 'gpt-4o-mini',\n",
       " 'object': 'chat.completion',\n",
       " 'service_tier': None,\n",
       " 'system_fingerprint': 'fp_04751d0b65',\n",
       " 'usage': {'completion_tokens': 17,\n",
       "  'prompt_tokens': 26,\n",
       "  'total_tokens': 43,\n",
       "  'completion_tokens_details': {'accepted_prediction_tokens': 0,\n",
       "   'audio_tokens': 0,\n",
       "   'reasoning_tokens': 0,\n",
       "   'rejected_prediction_tokens': 0},\n",
       "  'prompt_tokens_details': {'audio_tokens': 0, 'cached_tokens': 0}},\n",
       " 'prompt_filter_results': [{'prompt_index': 0,\n",
       "   'content_filter_results': {'hate': {'filtered': False, 'severity': 'safe'},\n",
       "    'jailbreak': {'filtered': False, 'detected': False},\n",
       "    'self_harm': {'filtered': False, 'severity': 'safe'},\n",
       "    'sexual': {'filtered': False, 'severity': 'safe'},\n",
       "    'violence': {'filtered': False, 'severity': 'safe'}}}]}"
      ]
     },
     "execution_count": 17,
     "metadata": {},
     "output_type": "execute_result"
    }
   ],
   "source": [
    "responses[0].to_dict()"
   ]
  },
  {
   "cell_type": "code",
   "execution_count": null,
   "id": "a7d64bc9-1924-40bb-ba20-c50fc1d898c7",
   "metadata": {},
   "outputs": [],
   "source": []
  }
 ],
 "metadata": {
  "kernelspec": {
   "display_name": "Python 3 (ipykernel)",
   "language": "python",
   "name": "python3"
  },
  "language_info": {
   "codemirror_mode": {
    "name": "ipython",
    "version": 3
   },
   "file_extension": ".py",
   "mimetype": "text/x-python",
   "name": "python",
   "nbconvert_exporter": "python",
   "pygments_lexer": "ipython3",
   "version": "3.10.14"
  }
 },
 "nbformat": 4,
 "nbformat_minor": 5
}
