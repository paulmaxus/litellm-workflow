{
 "cells": [
  {
   "cell_type": "code",
   "execution_count": 1,
   "id": "189035ad",
   "metadata": {},
   "outputs": [],
   "source": [
    "import requests\n",
    "\n",
    "import pandas as pd"
   ]
  },
  {
   "cell_type": "code",
   "execution_count": 2,
   "id": "9594366f",
   "metadata": {},
   "outputs": [],
   "source": [
    "url = \"https://api.openalex.org/works?filter=institutions.ror:04dkp9463,publication_year:2024\"\n",
    "\n",
    "response = requests.get(url)"
   ]
  },
  {
   "cell_type": "code",
   "execution_count": 3,
   "id": "2d238fff",
   "metadata": {},
   "outputs": [],
   "source": [
    "if response.status_code == 200:\n",
    "    data = response.json()\n",
    "else:\n",
    "    print(response.status_code)"
   ]
  },
  {
   "cell_type": "code",
   "execution_count": 4,
   "id": "904cf93d",
   "metadata": {},
   "outputs": [
    {
     "data": {
      "text/plain": [
       "{'count': 8005,\n",
       " 'db_response_time_ms': 185,\n",
       " 'page': 1,\n",
       " 'per_page': 25,\n",
       " 'groups_count': None}"
      ]
     },
     "execution_count": 4,
     "metadata": {},
     "output_type": "execute_result"
    }
   ],
   "source": [
    "data[\"meta\"]"
   ]
  },
  {
   "cell_type": "markdown",
   "id": "91aad262",
   "metadata": {},
   "source": [
    "We only get the first 25 publications!\n",
    "\n",
    "To get them all, we need Paging: https://docs.openalex.org/how-to-use-the-api/get-lists-of-entities/paging#cursor-paging"
   ]
  },
  {
   "cell_type": "code",
   "execution_count": 5,
   "id": "aa238255",
   "metadata": {},
   "outputs": [],
   "source": [
    "data = []\n",
    "\n",
    "cursor = \"*\"\n",
    "\n",
    "while cursor:\n",
    "\n",
    "    url = f\"https://api.openalex.org/works?filter=institutions.ror:04dkp9463,publication_year:2024&cursor={cursor}\"\n",
    "    response = requests.get(url)\n",
    "\n",
    "    if response.status_code == 200:\n",
    "        page_data = response.json()\n",
    "    else:\n",
    "        print(response.status_code)\n",
    "        break\n",
    "\n",
    "    cursor = page_data[\"meta\"][\"next_cursor\"]\n",
    "\n",
    "    data.extend(page_data[\"results\"])"
   ]
  },
  {
   "cell_type": "code",
   "execution_count": 6,
   "id": "bb8f477b",
   "metadata": {},
   "outputs": [
    {
     "data": {
      "text/plain": [
       "8005"
      ]
     },
     "execution_count": 6,
     "metadata": {},
     "output_type": "execute_result"
    }
   ],
   "source": [
    "len(data)"
   ]
  },
  {
   "cell_type": "code",
   "execution_count": 7,
   "id": "9197a0d4",
   "metadata": {},
   "outputs": [],
   "source": [
    "df = pd.DataFrame(data)\n",
    "df = df[[\"id\", \"title\", \"abstract_inverted_index\", \"concepts\", \"countries_distinct_count\", \"institutions_distinct_count\", \n",
    "         \"grants\", \"keywords\", \"open_access\", \"primary_topic\", \"sustainable_development_goals\"]]"
   ]
  },
  {
   "cell_type": "code",
   "execution_count": 8,
   "id": "1f7d1271",
   "metadata": {},
   "outputs": [],
   "source": [
    "# single values\n",
    "df[\"open_access\"] = df.open_access.apply(lambda x: x[\"oa_status\"] if x else x)\n",
    "df[\"primary_topic\"] = df.primary_topic.apply(lambda x: x[\"display_name\"] if x else x)"
   ]
  },
  {
   "cell_type": "code",
   "execution_count": 9,
   "id": "6c81e1af",
   "metadata": {},
   "outputs": [],
   "source": [
    "# lists: separate by comma\n",
    "df[\"concepts\"] = df.concepts.apply(lambda x: \",\".join(concept[\"display_name\"] for concept in x) if x else None)\n",
    "df[\"grants\"] = df.grants.apply(lambda x: \",\".join(grant[\"funder_display_name\"] for grant in x) if x else None)\n",
    "df[\"keywords\"] = df.keywords.apply(lambda x: \",\".join(keyword[\"display_name\"] for keyword in x) if x else None)\n",
    "df[\"sustainable_development_goals\"] = df.sustainable_development_goals.apply(lambda x: \",\".join(sdg[\"display_name\"] for sdg in x) if x else None)\n"
   ]
  },
  {
   "cell_type": "code",
   "execution_count": null,
   "id": "8a9205de",
   "metadata": {},
   "outputs": [],
   "source": [
    "# drop inverted abstracts before saving\n",
    "df.drop(columns=\"abstract_inverted_index\").to_csv(\"publications2024.csv\")"
   ]
  },
  {
   "cell_type": "markdown",
   "id": "47212b73",
   "metadata": {},
   "source": [
    "Inverted abstracts: has to be done individually (copyright)\n",
    "\n",
    "Save separately as json for now"
   ]
  },
  {
   "cell_type": "code",
   "execution_count": 11,
   "id": "5065cea2",
   "metadata": {},
   "outputs": [],
   "source": [
    "import json"
   ]
  },
  {
   "cell_type": "code",
   "execution_count": null,
   "id": "905df3f1",
   "metadata": {},
   "outputs": [],
   "source": [
    "abstracts_inverted = [{\"id\": item[\"id\"], \"abstract\": item[\"abstract_inverted_index\"]} for item in data]\n",
    "\n",
    "with open(\"abstracts_inverted.json\", \"w\") as f:\n",
    "    f.write(json.dumps(abstracts_inverted))"
   ]
  },
  {
   "cell_type": "code",
   "execution_count": null,
   "id": "68ecdb30",
   "metadata": {},
   "outputs": [],
   "source": []
  }
 ],
 "metadata": {
  "kernelspec": {
   "display_name": ".venv",
   "language": "python",
   "name": "python3"
  },
  "language_info": {
   "codemirror_mode": {
    "name": "ipython",
    "version": 3
   },
   "file_extension": ".py",
   "mimetype": "text/x-python",
   "name": "python",
   "nbconvert_exporter": "python",
   "pygments_lexer": "ipython3",
   "version": "3.11.9"
  }
 },
 "nbformat": 4,
 "nbformat_minor": 5
}
