{
 "cells": [
  {
   "cell_type": "markdown",
   "id": "2437436f",
   "metadata": {},
   "source": [
    "# Assigning SDG labels using structured output\n",
    "\n",
    "SDG: [Sustainable Development Goals](https://sdgs.un.org/goals)\n",
    "\n",
    "- Read subset of publications (and abstracts)\n",
    "- Use [structured outputs](https://openai.com/index/introducing-structured-outputs-in-the-api/) to retrieve labels for titles and abstracts\n",
    "- Not possible [with all models](https://learn.microsoft.com/en-us/azure/ai-foundry/openai/how-to/structured-outputs?tabs=python-secure%2Cdotnet-entra-id&pivots=programming-language-csharp#supported-models)"
   ]
  },
  {
   "cell_type": "markdown",
   "id": "f1e40701",
   "metadata": {},
   "source": [
    "## 1. Read data, invert abstracts"
   ]
  },
  {
   "cell_type": "code",
   "execution_count": 1,
   "id": "ec82ffc1",
   "metadata": {},
   "outputs": [],
   "source": [
    "import json\n",
    "import pandas as pd"
   ]
  },
  {
   "cell_type": "code",
   "execution_count": 2,
   "id": "7ba90b02",
   "metadata": {},
   "outputs": [],
   "source": [
    "n_subsets = 20"
   ]
  },
  {
   "cell_type": "code",
   "execution_count": 3,
   "id": "db8d43f4",
   "metadata": {},
   "outputs": [],
   "source": [
    "df = pd.read_csv(\"publications2024.csv\", nrows=n_subsets)"
   ]
  },
  {
   "cell_type": "code",
   "execution_count": 4,
   "id": "60d0757f",
   "metadata": {},
   "outputs": [],
   "source": [
    "with open(\"abstracts_inverted.json\", \"r\") as f:\n",
    "    abstracts_inverted = json.loads(f.read())\n",
    "\n",
    "abstracts = []\n",
    "for item in abstracts_inverted[:n_subsets]:\n",
    "\n",
    "    if not item[\"abstract\"]:\n",
    "        continue\n",
    "    # Create list of placeholders with sufficiently large size\n",
    "    abstract = [None] * 10000\n",
    "    \n",
    "    for word in item[\"abstract\"]:\n",
    "        indexes = item[\"abstract\"][word]\n",
    "        for index in indexes:\n",
    "            abstract[index] = word\n",
    "    \n",
    "    # Remove the remaining placeholders\n",
    "    abstract = \" \".join([word for word in abstract if word])\n",
    "\n",
    "    abstracts.append({\"id\": item[\"id\"], \"abstract\": abstract})"
   ]
  },
  {
   "cell_type": "code",
   "execution_count": 5,
   "id": "f8eb731e",
   "metadata": {},
   "outputs": [],
   "source": [
    "df = df.merge(pd.DataFrame(abstracts))  # only keep publications with abstracts"
   ]
  },
  {
   "cell_type": "markdown",
   "id": "b11f61a5",
   "metadata": {},
   "source": [
    "## 2. Assign labels"
   ]
  },
  {
   "cell_type": "code",
   "execution_count": 6,
   "id": "85d9faf0",
   "metadata": {},
   "outputs": [],
   "source": [
    "import requests\n",
    "import json\n",
    "\n",
    "from config import api_key"
   ]
  },
  {
   "cell_type": "code",
   "execution_count": 7,
   "id": "d1877554",
   "metadata": {},
   "outputs": [],
   "source": [
    "headers = {\n",
    "    \"Content-Type\": \"application/json\",\n",
    "    \"Accept\": \"application/json\",\n",
    "    \"Authorization\": f\"Bearer {api_key}\"\n",
    "}"
   ]
  },
  {
   "cell_type": "code",
   "execution_count": null,
   "id": "34fb30e1",
   "metadata": {},
   "outputs": [],
   "source": [
    "# We define a json schema to structure our response (label + sdg number)\n",
    "# https://json-schema.org/\n",
    "response_schema = {\n",
    "    \"name\": \"sdg_response\",\n",
    "    \"strict\": True,\n",
    "    \"schema\": {\n",
    "        \"type\": \"object\",\n",
    "        \"properties\": {\n",
    "            \"sdg\": {\"type\": \"integer\", \"minimum\": 1, \"maximum\": 17},\n",
    "            \"label\": {\"type\": \"string\"}  # we should restrict this using enum: https://json-schema.org/understanding-json-schema/reference/enum\n",
    "        },\n",
    "        \"required\": [\"sdg\", \"label\"],\n",
    "        \"additionalProperties\": False\n",
    "    }\n",
    "}"
   ]
  },
  {
   "cell_type": "code",
   "execution_count": 9,
   "id": "63194eeb",
   "metadata": {},
   "outputs": [],
   "source": [
    "url = \"https://ai-research-proxy.azurewebsites.net/chat/completions\"\n",
    "persona = \"You are an expert on Sustainable Development Goals. For a given publication you can assign the most suitable SDG.\"\n",
    "\n",
    "responses_titles = []\n",
    "for title in df.title:\n",
    "    data = {\n",
    "        \"model\": \"gpt-4o-mini\",\n",
    "        \"messages\": [\n",
    "            {\"role\": \"system\", \"content\": persona},\n",
    "            {\"role\": \"user\", \"content\": title},\n",
    "        ],\n",
    "        \"response_format\": {\n",
    "            \"type\": \"json_schema\",\n",
    "            \"json_schema\": response_schema\n",
    "        }\n",
    "    }\n",
    "    responses_titles.append(requests.post(url=url, data=json.dumps(data), headers=headers))\n",
    "\n",
    "responses_abstracts = []\n",
    "for abstract in df.abstract:\n",
    "    data = {\n",
    "        \"model\": \"gpt-4o-mini\",\n",
    "        \"messages\": [\n",
    "            {\"role\": \"system\", \"content\": persona},\n",
    "            {\"role\": \"user\", \"content\": abstract},\n",
    "        ],\n",
    "        \"response_format\": {\n",
    "            \"type\": \"json_schema\",\n",
    "            \"json_schema\": response_schema\n",
    "        }\n",
    "    }\n",
    "    responses_abstracts.append(requests.post(url=url, data=json.dumps(data), headers=headers))"
   ]
  },
  {
   "cell_type": "code",
   "execution_count": 10,
   "id": "da821f32",
   "metadata": {},
   "outputs": [
    {
     "data": {
      "text/plain": [
       "(14, 14)"
      ]
     },
     "execution_count": 10,
     "metadata": {},
     "output_type": "execute_result"
    }
   ],
   "source": [
    "len(responses_titles), len(responses_abstracts)"
   ]
  },
  {
   "cell_type": "code",
   "execution_count": 11,
   "id": "52fdf52d",
   "metadata": {},
   "outputs": [],
   "source": [
    "sdgs_titles = [json.loads(response.json()[\"choices\"][0][\"message\"][\"content\"]) for response in responses_titles]\n",
    "sdgs_abstracts = [json.loads(response.json()[\"choices\"][0][\"message\"][\"content\"]) for response in responses_abstracts]"
   ]
  },
  {
   "cell_type": "code",
   "execution_count": 12,
   "id": "58c575c8",
   "metadata": {},
   "outputs": [
    {
     "data": {
      "text/html": [
       "<div>\n",
       "<style scoped>\n",
       "    .dataframe tbody tr th:only-of-type {\n",
       "        vertical-align: middle;\n",
       "    }\n",
       "\n",
       "    .dataframe tbody tr th {\n",
       "        vertical-align: top;\n",
       "    }\n",
       "\n",
       "    .dataframe thead th {\n",
       "        text-align: right;\n",
       "    }\n",
       "</style>\n",
       "<table border=\"1\" class=\"dataframe\">\n",
       "  <thead>\n",
       "    <tr style=\"text-align: right;\">\n",
       "      <th></th>\n",
       "      <th>sustainable_development_goals</th>\n",
       "      <th>sdg</th>\n",
       "      <th>label</th>\n",
       "      <th>sdg</th>\n",
       "      <th>label</th>\n",
       "    </tr>\n",
       "  </thead>\n",
       "  <tbody>\n",
       "    <tr>\n",
       "      <th>0</th>\n",
       "      <td>Partnerships for the goals</td>\n",
       "      <td>3</td>\n",
       "      <td>Good Health and Well-being</td>\n",
       "      <td>3</td>\n",
       "      <td>Good Health and Well-being</td>\n",
       "    </tr>\n",
       "    <tr>\n",
       "      <th>1</th>\n",
       "      <td>Good health and well-being</td>\n",
       "      <td>3</td>\n",
       "      <td>Good Health and Well-Being</td>\n",
       "      <td>3</td>\n",
       "      <td>Good Health and Well-Being</td>\n",
       "    </tr>\n",
       "    <tr>\n",
       "      <th>2</th>\n",
       "      <td>Good health and well-being</td>\n",
       "      <td>3</td>\n",
       "      <td>Good Health and Well-being</td>\n",
       "      <td>3</td>\n",
       "      <td>Good Health and Well-Being</td>\n",
       "    </tr>\n",
       "    <tr>\n",
       "      <th>3</th>\n",
       "      <td>Partnerships for the goals</td>\n",
       "      <td>3</td>\n",
       "      <td>Good Health and Well-being</td>\n",
       "      <td>3</td>\n",
       "      <td>Good Health and Well-being</td>\n",
       "    </tr>\n",
       "    <tr>\n",
       "      <th>4</th>\n",
       "      <td>Climate action</td>\n",
       "      <td>13</td>\n",
       "      <td>Climate Action</td>\n",
       "      <td>13</td>\n",
       "      <td>Climate Action</td>\n",
       "    </tr>\n",
       "    <tr>\n",
       "      <th>5</th>\n",
       "      <td>Industry, innovation and infrastructure</td>\n",
       "      <td>9</td>\n",
       "      <td>Industry, Innovation and Infrastructure</td>\n",
       "      <td>9</td>\n",
       "      <td>Industry, Innovation and Infrastructure</td>\n",
       "    </tr>\n",
       "    <tr>\n",
       "      <th>6</th>\n",
       "      <td>Good health and well-being</td>\n",
       "      <td>3</td>\n",
       "      <td>Good Health and Well-being</td>\n",
       "      <td>3</td>\n",
       "      <td>Good Health and Well-Being</td>\n",
       "    </tr>\n",
       "    <tr>\n",
       "      <th>7</th>\n",
       "      <td>Partnerships for the goals</td>\n",
       "      <td>3</td>\n",
       "      <td>Good Health and Well-being</td>\n",
       "      <td>3</td>\n",
       "      <td>Good Health and Well-being</td>\n",
       "    </tr>\n",
       "    <tr>\n",
       "      <th>8</th>\n",
       "      <td>NaN</td>\n",
       "      <td>9</td>\n",
       "      <td>Industry, Innovation, and Infrastructure</td>\n",
       "      <td>9</td>\n",
       "      <td>Industry, Innovation, and Infrastructure</td>\n",
       "    </tr>\n",
       "    <tr>\n",
       "      <th>9</th>\n",
       "      <td>NaN</td>\n",
       "      <td>9</td>\n",
       "      <td>Industry, Innovation and Infrastructure</td>\n",
       "      <td>9</td>\n",
       "      <td>Industry, Innovation and Infrastructure</td>\n",
       "    </tr>\n",
       "    <tr>\n",
       "      <th>10</th>\n",
       "      <td>Good health and well-being</td>\n",
       "      <td>3</td>\n",
       "      <td>Good Health and Well-being</td>\n",
       "      <td>3</td>\n",
       "      <td>Good Health and Well-Being</td>\n",
       "    </tr>\n",
       "    <tr>\n",
       "      <th>11</th>\n",
       "      <td>NaN</td>\n",
       "      <td>15</td>\n",
       "      <td>Life on Land</td>\n",
       "      <td>13</td>\n",
       "      <td>Climate Action</td>\n",
       "    </tr>\n",
       "    <tr>\n",
       "      <th>12</th>\n",
       "      <td>NaN</td>\n",
       "      <td>13</td>\n",
       "      <td>Climate Action</td>\n",
       "      <td>1</td>\n",
       "      <td>No Poverty</td>\n",
       "    </tr>\n",
       "    <tr>\n",
       "      <th>13</th>\n",
       "      <td>Industry, innovation and infrastructure,Partne...</td>\n",
       "      <td>9</td>\n",
       "      <td>Industry, Innovation and Infrastructure</td>\n",
       "      <td>9</td>\n",
       "      <td>Industry, Innovation and Infrastructure</td>\n",
       "    </tr>\n",
       "  </tbody>\n",
       "</table>\n",
       "</div>"
      ],
      "text/plain": [
       "                        sustainable_development_goals  sdg  \\\n",
       "0                          Partnerships for the goals    3   \n",
       "1                          Good health and well-being    3   \n",
       "2                          Good health and well-being    3   \n",
       "3                          Partnerships for the goals    3   \n",
       "4                                      Climate action   13   \n",
       "5             Industry, innovation and infrastructure    9   \n",
       "6                          Good health and well-being    3   \n",
       "7                          Partnerships for the goals    3   \n",
       "8                                                 NaN    9   \n",
       "9                                                 NaN    9   \n",
       "10                         Good health and well-being    3   \n",
       "11                                                NaN   15   \n",
       "12                                                NaN   13   \n",
       "13  Industry, innovation and infrastructure,Partne...    9   \n",
       "\n",
       "                                       label  sdg  \\\n",
       "0                 Good Health and Well-being    3   \n",
       "1                 Good Health and Well-Being    3   \n",
       "2                 Good Health and Well-being    3   \n",
       "3                 Good Health and Well-being    3   \n",
       "4                             Climate Action   13   \n",
       "5    Industry, Innovation and Infrastructure    9   \n",
       "6                 Good Health and Well-being    3   \n",
       "7                 Good Health and Well-being    3   \n",
       "8   Industry, Innovation, and Infrastructure    9   \n",
       "9    Industry, Innovation and Infrastructure    9   \n",
       "10                Good Health and Well-being    3   \n",
       "11                              Life on Land   13   \n",
       "12                            Climate Action    1   \n",
       "13   Industry, Innovation and Infrastructure    9   \n",
       "\n",
       "                                       label  \n",
       "0                 Good Health and Well-being  \n",
       "1                 Good Health and Well-Being  \n",
       "2                 Good Health and Well-Being  \n",
       "3                 Good Health and Well-being  \n",
       "4                             Climate Action  \n",
       "5    Industry, Innovation and Infrastructure  \n",
       "6                 Good Health and Well-Being  \n",
       "7                 Good Health and Well-being  \n",
       "8   Industry, Innovation, and Infrastructure  \n",
       "9    Industry, Innovation and Infrastructure  \n",
       "10                Good Health and Well-Being  \n",
       "11                            Climate Action  \n",
       "12                                No Poverty  \n",
       "13   Industry, Innovation and Infrastructure  "
      ]
     },
     "execution_count": 12,
     "metadata": {},
     "output_type": "execute_result"
    }
   ],
   "source": [
    "pd.concat([df.sustainable_development_goals, pd.DataFrame(sdgs_titles), pd.DataFrame(sdgs_abstracts)], axis=1)"
   ]
  },
  {
   "cell_type": "code",
   "execution_count": null,
   "id": "83db9d29",
   "metadata": {},
   "outputs": [],
   "source": []
  }
 ],
 "metadata": {
  "kernelspec": {
   "display_name": ".venv",
   "language": "python",
   "name": "python3"
  },
  "language_info": {
   "codemirror_mode": {
    "name": "ipython",
    "version": 3
   },
   "file_extension": ".py",
   "mimetype": "text/x-python",
   "name": "python",
   "nbconvert_exporter": "python",
   "pygments_lexer": "ipython3",
   "version": "3.11.9"
  }
 },
 "nbformat": 4,
 "nbformat_minor": 5
}
