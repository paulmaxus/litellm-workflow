{
 "cells": [
  {
   "cell_type": "markdown",
   "id": "b2984000",
   "metadata": {},
   "source": [
    "Function to reconstruct abstracts"
   ]
  },
  {
   "cell_type": "code",
   "execution_count": 1,
   "id": "46f8ed90",
   "metadata": {},
   "outputs": [],
   "source": [
    "import json"
   ]
  },
  {
   "cell_type": "code",
   "execution_count": 2,
   "id": "cacf18c2",
   "metadata": {},
   "outputs": [],
   "source": [
    "# Read from JSON\n",
    "with open(\"abstracts_inverted.json\", \"r\") as f:\n",
    "    abstracts_inverted = json.loads(f.read())\n",
    "\n",
    "abstracts = []\n",
    "for item in abstracts_inverted:\n",
    "    \n",
    "    if not item[\"abstract\"]:\n",
    "        continue\n",
    "    # Create list of placeholders with sufficiently large size\n",
    "    abstract = [None] * 10000\n",
    "    \n",
    "    for word in item[\"abstract\"]:\n",
    "        indexes = item[\"abstract\"][word]\n",
    "        for index in indexes:\n",
    "            abstract[index] = word\n",
    "    \n",
    "    # Remove the remaining placeholders\n",
    "    abstract = \" \".join([word for word in abstract if word])\n",
    "\n",
    "    abstracts.append({\"id\": item[\"id\"], \"abstract\": abstract})"
   ]
  },
  {
   "cell_type": "code",
   "execution_count": null,
   "id": "24f2521b",
   "metadata": {},
   "outputs": [],
   "source": []
  }
 ],
 "metadata": {
  "kernelspec": {
   "display_name": ".venv",
   "language": "python",
   "name": "python3"
  },
  "language_info": {
   "codemirror_mode": {
    "name": "ipython",
    "version": 3
   },
   "file_extension": ".py",
   "mimetype": "text/x-python",
   "name": "python",
   "nbconvert_exporter": "python",
   "pygments_lexer": "ipython3",
   "version": "3.11.9"
  }
 },
 "nbformat": 4,
 "nbformat_minor": 5
}
