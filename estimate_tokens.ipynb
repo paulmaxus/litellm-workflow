{
 "cells": [
  {
   "cell_type": "markdown",
   "id": "130988dc",
   "metadata": {},
   "source": [
    "Estimate tokens needed for given prompts"
   ]
  },
  {
   "cell_type": "code",
   "execution_count": 1,
   "id": "200d5d6c",
   "metadata": {},
   "outputs": [],
   "source": [
    "import tiktoken"
   ]
  },
  {
   "cell_type": "code",
   "execution_count": 2,
   "id": "1f0a2cbf",
   "metadata": {},
   "outputs": [],
   "source": [
    "possible_encodings = [\n",
    "    \"o200k_base\",  # gpt-4o, gpt-4o-mini\n",
    "    \"cl100k_base\",  # gpt-4-turbo, gpt-4, gpt-3.5-turbo, text-embedding-ada-002, text-embedding-3-small, text-embedding-3-large\n",
    "]\n",
    "\n",
    "encodings = [tiktoken.get_encoding(x) for x in possible_encodings]"
   ]
  },
  {
   "cell_type": "code",
   "execution_count": 3,
   "id": "f7c3958e",
   "metadata": {},
   "outputs": [],
   "source": [
    "persona = \"You are a helpful assistant.\""
   ]
  },
  {
   "cell_type": "code",
   "execution_count": 4,
   "id": "b5a314ca",
   "metadata": {},
   "outputs": [],
   "source": [
    "sample_prompts = [\n",
    "    \"Write a haiku about recursion in programming.\",\n",
    "    \"Write a haiku about functional programming.\"\n",
    "]"
   ]
  },
  {
   "cell_type": "code",
   "execution_count": 5,
   "id": "aabbb162",
   "metadata": {},
   "outputs": [],
   "source": [
    "estimated_number_of_prompts = 20000"
   ]
  },
  {
   "cell_type": "code",
   "execution_count": 6,
   "id": "d2250d5b",
   "metadata": {},
   "outputs": [
    {
     "name": "stdout",
     "output_type": "stream",
     "text": [
      "\n",
      "          \n",
      "o200k_base\n",
      "          \n",
      "Total for sample: 35\n",
      "          \n",
      "Average for sample: 17.5\n",
      "          \n",
      "Total for all prompts: 350000.0\n",
      "          \n",
      "Persona: 6\n",
      "          \n",
      "\n",
      "          \n",
      "cl100k_base\n",
      "          \n",
      "Total for sample: 35\n",
      "          \n",
      "Average for sample: 17.5\n",
      "          \n",
      "Total for all prompts: 350000.0\n",
      "          \n",
      "Persona: 6\n",
      "          \n"
     ]
    }
   ],
   "source": [
    "# Note: for newer models, because of the message-based formatting, 3 tokens are added per prompt\n",
    "\n",
    "for encoding in encodings:\n",
    "    n_tokens = []\n",
    "    n_persona_tokens = len(encoding.encode(persona))\n",
    "    for prompt in sample_prompts:\n",
    "        n_tokens.append(\n",
    "            3 + n_persona_tokens + len(encoding.encode(prompt))\n",
    "        )\n",
    "    print( \n",
    "          f\"\"\"\n",
    "          \\n{encoding.name}\n",
    "          \\nTotal for sample: {sum(n_tokens)}\n",
    "          \\nAverage for sample: {sum(n_tokens)/len(n_tokens)}\n",
    "          \\nTotal for all prompts: {(sum(n_tokens)/len(n_tokens)) * estimated_number_of_prompts}\n",
    "          \\nPersona: {n_persona_tokens}\n",
    "          \"\"\"\n",
    "         )\n",
    "    "
   ]
  },
  {
   "cell_type": "markdown",
   "id": "2db439a7",
   "metadata": {},
   "source": [
    "### Estimate output tokens\n",
    "\n",
    "pass"
   ]
  }
 ],
 "metadata": {
  "kernelspec": {
   "display_name": ".venv",
   "language": "python",
   "name": "python3"
  },
  "language_info": {
   "codemirror_mode": {
    "name": "ipython",
    "version": 3
   },
   "file_extension": ".py",
   "mimetype": "text/x-python",
   "name": "python",
   "nbconvert_exporter": "python",
   "pygments_lexer": "ipython3",
   "version": "3.11.9"
  }
 },
 "nbformat": 4,
 "nbformat_minor": 5
}
